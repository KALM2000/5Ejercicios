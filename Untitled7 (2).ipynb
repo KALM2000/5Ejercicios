{
 "cells": [
  {
   "cell_type": "code",
   "execution_count": 1,
   "metadata": {},
   "outputs": [
    {
     "name": "stdout",
     "output_type": "stream",
     "text": [
      "24.0\n",
      "el numero 24.0 es positivo\n"
     ]
    }
   ],
   "source": [
    "a=float(input(\"ingresa numero\\n\"))\n",
    "b=float(input(\"ingresa numero\\n\"))\n",
    "n=(a+b)\n",
    "print((n))\n",
    "if(n==0):\n",
    " print(\"el numero \" + str(n)+ \" es neutro \")\n",
    "else:\n",
    " if(n>0):\n",
    "  print(\"el numero \" + str(n)+ \" es positivo\")\n",
    " else:\n",
    "  print(\"el numero \" + str(n)+ \" es negativo\")"
   ]
  },
  {
   "cell_type": "code",
   "execution_count": 2,
   "metadata": {},
   "outputs": [
    {
     "name": "stdout",
     "output_type": "stream",
     "text": [
      " 34 es par\n",
      " 35 es impar\n",
      " 36 es par\n",
      " 37 es impar\n",
      " 38 es par\n",
      " 39 es impar\n",
      " 40 es par\n",
      " 41 es impar\n",
      " 42 es par\n",
      " 43 es impar\n",
      " 44 es par\n"
     ]
    }
   ],
   "source": [
    "numero_1 = int(input(\"Introdusca un número: \"))\n",
    "numero_2 = int(input(\"Introdusca un número mayor o igual que el primero: \"))\n",
    "\n",
    "if numero_2 < numero_1:\n",
    "    print(f\"¡Porfavor ingrese un numero mayor o igual que {numero_1}!\")\n",
    "else:\n",
    "    for i in range(numero_1, numero_2 + 1):\n",
    "        if i % 2 == 0:\n",
    "            print(f\" {i} es par\")\n",
    "        else:\n",
    "            print(f\" {i} es impar\")"
   ]
  },
  {
   "cell_type": "code",
   "execution_count": null,
   "metadata": {},
   "outputs": [],
   "source": [
    "a= (int(input(\"Ingrese Numero\\n\")))\n",
    "r=a+1\n",
    "suma=0\n",
    "for i in range(0,r):\n",
    "   suma =(suma+i)\n",
    "print(suma)"
   ]
  },
  {
   "cell_type": "code",
   "execution_count": null,
   "metadata": {},
   "outputs": [],
   "source": []
  }
 ],
 "metadata": {
  "kernelspec": {
   "display_name": "Python 3",
   "language": "python",
   "name": "python3"
  },
  "language_info": {
   "codemirror_mode": {
    "name": "ipython",
    "version": 3
   },
   "file_extension": ".py",
   "mimetype": "text/x-python",
   "name": "python",
   "nbconvert_exporter": "python",
   "pygments_lexer": "ipython3",
   "version": "3.6.5"
  }
 },
 "nbformat": 4,
 "nbformat_minor": 2
}
